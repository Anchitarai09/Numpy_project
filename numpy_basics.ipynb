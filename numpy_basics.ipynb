{
 "cells": [
  {
   "cell_type": "code",
   "execution_count": 2,
   "id": "d39b936c-678c-4e5a-8849-18ff8346f933",
   "metadata": {},
   "outputs": [],
   "source": [
    "import numpy as np"
   ]
  },
  {
   "cell_type": "code",
   "execution_count": 3,
   "id": "76e07d13-5d83-4542-8641-b92174b73b70",
   "metadata": {},
   "outputs": [
    {
     "data": {
      "text/plain": [
       "array([ 7, 10,  5, ...,  5,  9, 10])"
      ]
     },
     "execution_count": 3,
     "metadata": {},
     "output_type": "execute_result"
    }
   ],
   "source": [
    "survey = np.loadtxt('survey.txt', dtype= 'int')  # here we read the data\n",
    "survey"
   ]
  },
  {
   "cell_type": "markdown",
   "id": "e7449068-4251-46b1-929b-4e97c1ecf071",
   "metadata": {},
   "source": [
    " # 1. Does the loaded file returns an array of survey score?"
   ]
  },
  {
   "cell_type": "markdown",
   "id": "54de1c1b-48df-4cca-9543-634688c1b4b3",
   "metadata": {},
   "source": [
    "yes it return 1D Array and the shape of array (1167,)"
   ]
  },
  {
   "cell_type": "markdown",
   "id": "98d1f2c0-a59f-4a4c-856f-52e0e6333fe6",
   "metadata": {},
   "source": [
    " # 2. Find the length of the returned array."
   ]
  },
  {
   "cell_type": "code",
   "execution_count": 4,
   "id": "12ecb0a4-2f4b-4a0a-9268-ae124286e20a",
   "metadata": {},
   "outputs": [],
   "source": [
    "length=len(survey)"
   ]
  },
  {
   "cell_type": "code",
   "execution_count": 5,
   "id": "61bcda97-531c-4b87-9891-47e081f13083",
   "metadata": {},
   "outputs": [
    {
     "name": "stdout",
     "output_type": "stream",
     "text": [
      "the length of the returned array : 1167\n"
     ]
    }
   ],
   "source": [
    "print(\"the length of the returned array :\",length)"
   ]
  },
  {
   "cell_type": "markdown",
   "id": "8ed8abcd-9fae-46a1-92c2-f0c91e412130",
   "metadata": {},
   "source": [
    "# 3. Perform aggregate operations - min, max, sum"
   ]
  },
  {
   "cell_type": "code",
   "execution_count": 6,
   "id": "95106006-cf55-4d9d-ab91-ae2293479799",
   "metadata": {},
   "outputs": [
    {
     "name": "stdout",
     "output_type": "stream",
     "text": [
      " min of the  [ 7 10  5 ...  5  9 10] is : 1\n"
     ]
    }
   ],
   "source": [
    "# here , we find min of the returned array\n",
    "m = min(survey)\n",
    "print(f\" min of the  {survey} is :\",m)"
   ]
  },
  {
   "cell_type": "code",
   "execution_count": 7,
   "id": "9847366e-b5c8-4c60-8f95-8061469949e0",
   "metadata": {},
   "outputs": [
    {
     "name": "stdout",
     "output_type": "stream",
     "text": [
      " max of the [ 7 10  5 ...  5  9 10] is : 10\n"
     ]
    }
   ],
   "source": [
    "# here , we find max of the returned array\n",
    "maximum = max(survey)\n",
    "print(f\" max of the { survey} is :\",maximum)"
   ]
  },
  {
   "cell_type": "code",
   "execution_count": 8,
   "id": "0ec6c26f-6ef2-405e-9c86-1640ace90d18",
   "metadata": {},
   "outputs": [
    {
     "name": "stdout",
     "output_type": "stream",
     "text": [
      "sum of the [ 7 10  5 ...  5  9 10] : 8461\n"
     ]
    }
   ],
   "source": [
    "# here , we find sum of the returned array\n",
    "s = sum(survey)\n",
    "print(f\"sum of the {survey} :\",s)"
   ]
  },
  {
   "cell_type": "markdown",
   "id": "67a51285-f405-4178-892b-3f07a17bd999",
   "metadata": {},
   "source": [
    "# 4 Let Survey score greater than 6 is known as promoter score. Display the promoter score."
   ]
  },
  {
   "cell_type": "code",
   "execution_count": 10,
   "id": "c22cd925-4dde-4bb6-8c85-fd55abbb7556",
   "metadata": {},
   "outputs": [
    {
     "data": {
      "text/plain": [
       "array([ 7, 10,  9,  9,  7,  9,  9,  9, 10,  9,  9,  7, 10,  9,  7,  9,  9,\n",
       "        9,  8,  9,  9,  9, 10, 10,  9, 10,  9, 10,  9,  9, 10, 10,  9,  8,\n",
       "       10,  8,  9, 10,  7, 10, 10,  9,  9, 10, 10, 10,  9, 10,  7,  9, 10,\n",
       "        9,  9,  7,  9, 10,  9,  9,  9,  9,  9,  9,  8, 10,  8,  7,  9,  9,\n",
       "        8,  8,  9, 10,  9, 10,  9,  9,  8,  8,  9,  9,  9, 10, 10,  9,  7,\n",
       "       10,  9,  9, 10,  7,  9,  7,  9, 10,  8,  9,  9,  7,  7,  9,  9,  9,\n",
       "        7,  8,  9,  9,  7,  9,  9,  9,  8,  9, 10,  8,  9,  9,  9,  9,  7,\n",
       "        9,  9,  9,  9, 10,  9,  9,  9,  9,  9,  8,  8,  8, 10,  7, 10,  9,\n",
       "       10,  8, 10, 10,  7,  8,  8, 10,  9, 10,  9,  9,  7,  9,  9,  9,  9,\n",
       "        9, 10,  9, 10,  8,  9, 10,  9, 10, 10, 10,  7,  9,  9, 10,  8,  7,\n",
       "       10,  9,  9,  7,  8,  9,  9, 10,  8,  8,  9,  9,  9,  7,  9, 10,  7,\n",
       "       10,  9,  9,  9,  8, 10,  9,  9,  9,  9,  9, 10,  9,  8,  9,  8,  9,\n",
       "       10,  9,  7, 10,  7, 10,  9,  9,  7,  8,  9,  9,  7,  7, 10,  9,  8,\n",
       "       10,  7,  9,  7,  9,  7,  9,  9,  8, 10,  9, 10,  9,  9,  9,  9,  9,\n",
       "        9,  9,  7,  7,  9,  9,  9,  9,  8, 10, 10,  9,  9,  9, 10,  9, 10,\n",
       "       10, 10, 10,  8, 10,  9,  9,  9,  9,  8, 10, 10,  7,  7,  7,  7,  7,\n",
       "        8, 10,  9,  8,  9, 10,  9,  7, 10,  8, 10, 10, 10,  9, 10, 10,  9,\n",
       "       10,  7,  9,  9,  9,  9, 10,  9, 10,  9, 10,  9,  8,  9,  9,  9, 10,\n",
       "        9,  9,  9,  8,  9,  9,  7, 10,  9, 10,  8, 10,  9, 10, 10, 10,  9,\n",
       "        9,  9,  9,  7,  9,  7,  9, 10,  9,  9, 10,  9,  8,  7, 10,  7,  7,\n",
       "       10,  9,  9,  7,  7,  8,  8,  9, 10,  7, 10, 10, 10,  9,  7,  8,  9,\n",
       "        9, 10, 10,  8,  9,  8, 10,  9,  8,  9,  9, 10,  9,  9,  9,  9,  8,\n",
       "        9,  9,  7,  9,  7,  9,  9,  9, 10,  9,  9,  7,  9, 10,  9,  8, 10,\n",
       "        9, 10,  7,  9, 10,  9,  9,  8, 10, 10,  8,  9,  7,  9,  9, 10,  9,\n",
       "        9,  7,  8,  8, 10,  7,  7,  9,  9,  9,  9,  8,  7,  9,  9,  7, 10,\n",
       "       10,  9, 10,  8,  9,  8,  9,  8,  7,  9,  9, 10,  7,  9,  8,  9,  9,\n",
       "        9, 10,  8,  9,  8, 10,  9, 10,  8,  9,  7, 10, 10,  9, 10, 10,  9,\n",
       "        7, 10,  9,  9,  9,  9,  9, 10,  7,  8,  9, 10, 10,  7,  9,  7, 10,\n",
       "        7, 10,  9,  9, 10,  9, 10, 10,  9, 10, 10, 10,  7,  9,  8,  9,  9,\n",
       "       10,  9,  9,  9,  7, 10,  8,  9,  7,  7,  9,  9,  9,  9,  7, 10,  9,\n",
       "        8,  8,  9,  9,  8, 10,  9,  9,  7,  9,  8,  9,  8,  8,  9, 10,  9,\n",
       "       10,  9,  9, 10,  8,  7,  9,  9,  8,  7,  9,  9,  9,  9, 10,  9,  9,\n",
       "        9,  9,  9,  9,  9,  9,  9,  7,  7,  9, 10,  9, 10,  9,  9,  9,  7,\n",
       "        9,  9,  9,  7,  9,  8,  9,  9,  9,  9,  7,  7,  7,  9,  9,  9,  7,\n",
       "       10, 10,  8,  9,  7,  9,  9,  8,  9,  8, 10,  9,  7,  7, 10,  8,  9,\n",
       "       10, 10,  9,  9, 10,  9, 10,  8, 10,  7,  8, 10,  8,  9,  9,  7,  9,\n",
       "       10, 10,  7,  9,  9,  7,  9,  8, 10,  9,  9,  9,  8,  9, 10,  9, 10,\n",
       "        9,  9, 10,  9,  9,  7,  9,  7, 10,  8,  9,  7,  9,  9,  9, 10,  9,\n",
       "        7,  7,  9,  9,  8,  9,  9,  7,  9, 10,  9, 10, 10,  7,  7,  9,  8,\n",
       "        9,  9, 10,  7, 10,  7, 10, 10,  9,  9,  7, 10, 10,  9, 10,  9, 10,\n",
       "        9, 10,  9,  9,  7, 10,  7,  9, 10, 10,  8,  8,  9,  9,  9,  9,  9,\n",
       "        9,  9,  9,  9,  9,  7,  9,  9,  9,  9,  9,  8,  9,  9,  7,  9,  9,\n",
       "        9,  9,  9,  7,  9,  9,  9,  7,  9, 10, 10,  9,  8,  9,  9,  8,  9,\n",
       "       10, 10,  9, 10,  8,  8, 10,  8,  7,  8,  9, 10, 10,  9, 10, 10, 10,\n",
       "        9,  9,  7, 10, 10, 10,  9,  9, 10, 10,  9,  7,  9,  9,  8,  9,  9,\n",
       "        9, 10,  7, 10, 10, 10, 10, 10,  9,  9,  7,  8,  9,  9, 10, 10,  7,\n",
       "        9,  8,  9,  8,  9,  9,  9, 10, 10,  7,  9, 10,  7, 10,  9, 10, 10,\n",
       "        9, 10, 10,  9, 10,  8,  8,  9,  8, 10, 10,  7,  8,  8,  9, 10, 10,\n",
       "        9,  9,  9,  9, 10,  9,  9,  7,  7, 10,  7,  7, 10,  7,  8, 10, 10,\n",
       "        9, 10])"
      ]
     },
     "execution_count": 10,
     "metadata": {},
     "output_type": "execute_result"
    }
   ],
   "source": [
    "promoter_score = survey[survey>6]\n",
    "promoter_score"
   ]
  },
  {
   "cell_type": "markdown",
   "id": "5822bdfd-f754-4ea6-85c7-ae509f95dfd1",
   "metadata": {},
   "source": [
    "# 5. Let Survey score less than 6 is known as detractor score. Display the detractor score."
   ]
  },
  {
   "cell_type": "code",
   "execution_count": 12,
   "id": "d8e1b1e3-a5bb-4d8c-970e-e94592c6867b",
   "metadata": {},
   "outputs": [
    {
     "data": {
      "text/plain": [
       "array([5, 4, 4, 5, 1, 5, 5, 1, 4, 5, 4, 4, 4, 5, 1, 4, 1, 4, 1, 5, 5, 1,\n",
       "       1, 4, 1, 5, 4, 1, 1, 4, 1, 5, 1, 4, 4, 1, 1, 1, 1, 1, 1, 1, 4, 1,\n",
       "       1, 5, 5, 5, 4, 4, 1, 4, 1, 4, 1, 5, 1, 1, 5, 4, 4, 4, 4, 1, 4, 5,\n",
       "       4, 4, 1, 1, 5, 5, 1, 5, 1, 5, 5, 4, 5, 4, 1, 1, 1, 1, 4, 1, 4, 4,\n",
       "       5, 4, 1, 1, 1, 1, 5, 4, 5, 5, 4, 1, 5, 1, 4, 4, 1, 1, 1, 4, 4, 5,\n",
       "       5, 4, 5, 5, 5, 1, 4, 1, 5, 5, 1, 5, 1, 1, 5, 5, 4, 4, 1, 4, 4, 4,\n",
       "       1, 1, 4, 4, 4, 5, 5, 1, 1, 4, 1, 4, 1, 4, 1, 4, 1, 4, 1, 5, 4, 4,\n",
       "       5, 1, 4, 5, 5, 5, 1, 5, 4, 1, 1, 5, 5, 5, 4, 5, 4, 4, 1, 4, 4, 4,\n",
       "       4, 5, 1, 5, 5, 1, 4, 4, 5, 1, 1, 4, 5, 5, 5, 1, 4, 5, 5, 4, 1, 5,\n",
       "       5, 5, 1, 1, 5, 5, 1, 1, 1, 4, 5, 5, 4, 4, 4, 5, 1, 4, 1, 4, 5, 4,\n",
       "       5, 5, 1, 5, 1, 5, 5, 1, 4, 5, 5, 4, 1, 5, 1, 4, 1, 4, 1, 1, 1, 1,\n",
       "       1, 1, 4, 1, 5, 4, 5, 1, 5, 1, 5, 4, 4, 4, 4, 5, 5, 1, 4, 1, 5, 5,\n",
       "       1, 4, 1, 1, 4, 4, 4, 4, 1, 4, 1, 1, 4, 1, 5, 4, 1, 1, 5, 4, 5, 4,\n",
       "       4, 4, 1, 5, 5, 1, 4, 5, 4, 4, 4, 1, 4, 1, 4, 4, 4, 5, 1, 1, 1, 4,\n",
       "       5, 5, 1, 5, 4, 5, 5, 4, 1, 1, 5, 5, 5, 1, 4, 5, 4, 5, 5, 5, 1, 4,\n",
       "       1, 5])"
      ]
     },
     "execution_count": 12,
     "metadata": {},
     "output_type": "execute_result"
    }
   ],
   "source": [
    "detractor_score = survey[survey<6]\n",
    "detractor_score"
   ]
  },
  {
   "cell_type": "markdown",
   "id": "798fd828-4d1d-4b1e-af14-f2cd5200f5a1",
   "metadata": {},
   "source": [
    "# 6.Calculate the promoter and detractor percentage."
   ]
  },
  {
   "cell_type": "code",
   "execution_count": 18,
   "id": "8961e4ad-40a0-46c9-b350-982cfedcf2c0",
   "metadata": {},
   "outputs": [
    {
     "data": {
      "text/plain": [
       "71.55098543273351"
      ]
     },
     "execution_count": 18,
     "metadata": {},
     "output_type": "execute_result"
    }
   ],
   "source": [
    "per_promoter = (len(promoter_score)/len(survey))*100\n",
    "per_promoter"
   ]
  },
  {
   "cell_type": "code",
   "execution_count": 19,
   "id": "00c88d6d-5325-40b5-86d8-396a4da58c37",
   "metadata": {},
   "outputs": [
    {
     "data": {
      "text/plain": [
       "28.449014567266495"
      ]
     },
     "execution_count": 19,
     "metadata": {},
     "output_type": "execute_result"
    }
   ],
   "source": [
    "per_detractor = (len(detractor_score)/len(survey))*100\n",
    "per_detractor"
   ]
  },
  {
   "cell_type": "markdown",
   "id": "99664f65-3371-4962-8fa6-17b5f8a2b610",
   "metadata": {},
   "source": [
    "# notee:- if we want to check the our calculated percentage right or wrong :=\n",
    "we add both variables and we see our result is equal to 100 so, our calculated percentage is right. if not equal to 100 ,its wrong"
   ]
  },
  {
   "cell_type": "code",
   "execution_count": null,
   "id": "309140e6-5881-497a-bc0b-970742fec2d0",
   "metadata": {},
   "outputs": [],
   "source": []
  }
 ],
 "metadata": {
  "kernelspec": {
   "display_name": "Python 3 (ipykernel)",
   "language": "python",
   "name": "python3"
  },
  "language_info": {
   "codemirror_mode": {
    "name": "ipython",
    "version": 3
   },
   "file_extension": ".py",
   "mimetype": "text/x-python",
   "name": "python",
   "nbconvert_exporter": "python",
   "pygments_lexer": "ipython3",
   "version": "3.11.5"
  }
 },
 "nbformat": 4,
 "nbformat_minor": 5
}

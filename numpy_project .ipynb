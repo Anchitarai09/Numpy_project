{
 "cells": [
  {
   "cell_type": "code",
   "execution_count": 3,
   "id": "aec486a3-99ad-48a9-9d2e-ad971f4a7cf4",
   "metadata": {},
   "outputs": [],
   "source": [
    "import numpy as np"
   ]
  },
  {
   "cell_type": "markdown",
   "id": "4e91868d-ecb4-4eb2-aef1-77c5df08f2db",
   "metadata": {},
   "source": [
    "# 1. Load and visualize the dataset."
   ]
  },
  {
   "cell_type": "code",
   "execution_count": 4,
   "id": "95593176-0cde-4f82-abcd-03b50a5c4ff4",
   "metadata": {
    "scrolled": true
   },
   "outputs": [
    {
     "data": {
      "text/plain": [
       "array([['06-10-2017', '5464', 'Neutral', '181', '5', 'Inactive'],\n",
       "       ['07-10-2017', '6041', 'Sad', '197', '8', 'Inactive'],\n",
       "       ['08-10-2017', '25', 'Sad', '0', '5', 'Inactive'],\n",
       "       ['09-10-2017', '5461', 'Sad', '174', '4', 'Inactive'],\n",
       "       ['10-10-2017', '6915', 'Neutral', '223', '5', 'Active'],\n",
       "       ['11-10-2017', '4545', 'Sad', '149', '6', 'Inactive'],\n",
       "       ['12-10-2017', '4340', 'Sad', '140', '6', 'Inactive'],\n",
       "       ['13-10-2017', '1230', 'Sad', '38', '7', 'Inactive'],\n",
       "       ['14-10-2017', '61', 'Sad', '1', '5', 'Inactive'],\n",
       "       ['15-10-2017', '1258', 'Sad', '40', '6', 'Inactive'],\n",
       "       ['16-10-2017', '3148', 'Sad', '101', '8', 'Inactive'],\n",
       "       ['17-10-2017', '4687', 'Sad', '152', '5', 'Inactive'],\n",
       "       ['18-10-2017', '4732', 'Happy', '150', '6', 'Active'],\n",
       "       ['19-10-2017', '3519', 'Sad', '113', '7', 'Inactive'],\n",
       "       ['20-10-2017', '1580', 'Sad', '49', '5', 'Inactive'],\n",
       "       ['21-10-2017', '2822', 'Sad', '86', '6', 'Inactive'],\n",
       "       ['22-10-2017', '181', 'Sad', '6', '8', 'Inactive'],\n",
       "       ['23-10-2017', '3158', 'Neutral', '99', '5', 'Inactive'],\n",
       "       ['24-10-2017', '4383', 'Neutral', '143', '4', 'Inactive'],\n",
       "       ['25-10-2017', '3881', 'Neutral', '125', '5', 'Inactive'],\n",
       "       ['26-10-2017', '4037', 'Neutral', '129', '6', 'Inactive'],\n",
       "       ['27-10-2017', '202', 'Neutral', '6', '8', 'Inactive'],\n",
       "       ['28-10-2017', '292', 'Neutral', '9', '5', 'Inactive'],\n",
       "       ['29-10-2017', '330', 'Happy', '10', '6', 'Inactive'],\n",
       "       ['30-10-2017', '2209', 'Neutral', '72', '5', 'Inactive'],\n",
       "       ['31-10-2017', '4550', 'Happy', '150', '8', 'Active'],\n",
       "       ['01-11-2017', '4435', 'Happy', '141', '5', 'Inactive'],\n",
       "       ['02-11-2017', '4779', 'Happy', '156', '4', 'Inactive'],\n",
       "       ['03-11-2017', '1831', 'Happy', '57', '5', 'Inactive'],\n",
       "       ['04-11-2017', '2255', 'Happy', '72', '4', 'Inactive'],\n",
       "       ['05-11-2017', '539', 'Happy', '17', '5', 'Active'],\n",
       "       ['06-11-2017', '5464', 'Happy', '181', '4', 'Inactive'],\n",
       "       ['07-11-2017', '6041', 'Neutral', '197', '3', 'Inactive'],\n",
       "       ['08-11-2017', '4068', 'Happy', '131', '2', 'Inactive'],\n",
       "       ['09-11-2017', '4683', 'Happy', '154', '9', 'Inactive'],\n",
       "       ['10-11-2017', '4033', 'Happy', '137', '5', 'Inactive'],\n",
       "       ['11-11-2017', '6314', 'Happy', '193', '6', 'Active'],\n",
       "       ['12-11-2017', '614', 'Happy', '19', '4', 'Active'],\n",
       "       ['13-11-2017', '3149', 'Happy', '101', '5', 'Active'],\n",
       "       ['14-11-2017', '4005', 'Happy', '139', '8', 'Active'],\n",
       "       ['15-11-2017', '4880', 'Happy', '164', '4', 'Active'],\n",
       "       ['16-11-2017', '4136', 'Happy', '137', '5', 'Active'],\n",
       "       ['17-11-2017', '705', 'Happy', '22', '6', 'Active'],\n",
       "       ['18-11-2017', '570', 'Neutral', '17', '5', 'Active'],\n",
       "       ['19-11-2017', '269', 'Happy', '9', '6', 'Active'],\n",
       "       ['20-11-2017', '4275', 'Happy', '145', '5', 'Inactive'],\n",
       "       ['21-11-2017', '5999', 'Happy', '192', '6', 'Inactive'],\n",
       "       ['22-11-2017', '4421', 'Happy', '146', '5', 'Inactive'],\n",
       "       ['23-11-2017', '6930', 'Happy', '234', '6', 'Inactive'],\n",
       "       ['24-11-2017', '5195', 'Happy', '167', '5', 'Inactive'],\n",
       "       ['25-11-2017', '546', 'Happy', '16', '6', 'Inactive'],\n",
       "       ['26-11-2017', '493', 'Happy', '17', '7', 'Active'],\n",
       "       ['27-11-2017', '995', 'Happy', '32', '6', 'Active'],\n",
       "       ['28-11-2017', '1163', 'Neutral', '35', '7', 'Active'],\n",
       "       ['29-11-2017', '6676', 'Sad', '220', '6', 'Active'],\n",
       "       ['30-11-2017', '3608', 'Happy', '116', '5', 'Active'],\n",
       "       ['01-12-2017', '774', 'Happy', '23', '6', 'Active'],\n",
       "       ['02-12-2017', '1421', 'Happy', '44', '7', 'Active'],\n",
       "       ['03-12-2017', '4064', 'Happy', '131', '8', 'Active'],\n",
       "       ['04-12-2017', '2725', 'Happy', '86', '8', 'Active'],\n",
       "       ['05-12-2017', '5934', 'Happy', '194', '7', 'Active'],\n",
       "       ['06-12-2017', '1867', 'Happy', '60', '8', 'Active'],\n",
       "       ['07-12-2017', '3721', 'Sad', '121', '5', 'Active'],\n",
       "       ['08-12-2017', '2374', 'Neutral', '76', '4', 'Inactive'],\n",
       "       ['09-12-2017', '2909', 'Neutral', '93', '3', 'Active'],\n",
       "       ['10-12-2017', '1648', 'Sad', '53', '3', 'Active'],\n",
       "       ['11-12-2017', '799', 'Sad', '25', '4', 'Inactive'],\n",
       "       ['12-12-2017', '7102', 'Neutral', '227', '5', 'Active'],\n",
       "       ['13-12-2017', '3941', 'Neutral', '125', '5', 'Active'],\n",
       "       ['14-12-2017', '7422', 'Happy', '243', '5', 'Active'],\n",
       "       ['15-12-2017', '437', 'Neutral', '14', '3', 'Active'],\n",
       "       ['16-12-2017', '1231', 'Neutral', '39', '4', 'Active'],\n",
       "       ['17-12-2017', '1696', 'Sad', '55', '4', 'Inactive'],\n",
       "       ['18-12-2017', '4921', 'Neutral', '158', '5', 'Active'],\n",
       "       ['19-12-2017', '221', 'Sad', '7', '5', 'Active'],\n",
       "       ['20-12-2017', '6500', 'Neutral', '213', '5', 'Active'],\n",
       "       ['21-12-2017', '3575', 'Neutral', '116', '5', 'Active'],\n",
       "       ['22-12-2017', '4061', 'Sad', '129', '5', 'Inactive'],\n",
       "       ['23-12-2017', '651', 'Sad', '21', '5', 'Inactive'],\n",
       "       ['24-12-2017', '753', 'Sad', '28', '4', 'Inactive'],\n",
       "       ['25-12-2017', '518', 'Sad', '16', '3', 'Inactive'],\n",
       "       ['26-12-2017', '5537', 'Happy', '180', '4', 'Active'],\n",
       "       ['27-12-2017', '4108', 'Neutral', '138', '5', 'Active'],\n",
       "       ['28-12-2017', '5376', 'Happy', '176', '5', 'Active'],\n",
       "       ['29-12-2017', '3066', 'Neutral', '99', '4', 'Active'],\n",
       "       ['30-12-2017', '177', 'Sad', '5', '5', 'Inactive'],\n",
       "       ['31-12-2017', '36', 'Sad', '1', '3', 'Inactive'],\n",
       "       ['01-01-2018', '299', 'Sad', '10', '3', 'Inactive'],\n",
       "       ['02-01-2018', '1447', 'Neutral', '47', '3', 'Inactive'],\n",
       "       ['03-01-2018', '2599', 'Neutral', '84', '2', 'Inactive'],\n",
       "       ['04-01-2018', '702', 'Sad', '23', '3', 'Inactive'],\n",
       "       ['05-01-2018', '133', 'Sad', '4', '2', 'Inactive'],\n",
       "       ['06-01-2018', '153', 'Happy', '0', '8', 'Inactive'],\n",
       "       ['07-01-2018', '500', 'Neutral', '0', '5', 'Active'],\n",
       "       ['08-01-2018', '2127', 'Neutral', '0', '5', 'Inactive'],\n",
       "       ['09-01-2018', '2203', 'Happy', '0', '5', 'Active']], dtype=object)"
      ]
     },
     "execution_count": 4,
     "metadata": {},
     "output_type": "execute_result"
    }
   ],
   "source": [
    "fit = np.loadtxt('fit.txt',dtype='object')\n",
    "fit"
   ]
  },
  {
   "cell_type": "markdown",
   "id": "c96018a9-e7a5-4424-8eca-005d5297ea90",
   "metadata": {},
   "source": [
    "# Append the elements in list from fit dataset using for loop"
   ]
  },
  {
   "cell_type": "code",
   "execution_count": 5,
   "id": "47ce31cc-2ece-4e72-a3a3-d8db0b27c1e0",
   "metadata": {},
   "outputs": [],
   "source": [
    "list=[]\n",
    "list_1=[]\n",
    "list_2=[]\n",
    "list_3=[]\n",
    "list_4=[]\n",
    "list_5=[]\n",
    "for i in fit:\n",
    "    list.append(i[0])\n",
    "    list_1.append(int(i[1]))\n",
    "    list_2.append(i[2])\n",
    "    list_3.append(int(i[3]))\n",
    "    list_4.append(int(i[4]))\n",
    "    list_5.append(i[5])\n",
    "    \n"
   ]
  },
  {
   "cell_type": "markdown",
   "id": "6520a905-4a3c-4c26-ba95-d1adc2f83bcb",
   "metadata": {},
   "source": [
    " # 2. What is the average step count across the dataset?"
   ]
  },
  {
   "cell_type": "code",
   "execution_count": 6,
   "id": "14ae156e-e0d8-40ca-b1de-9591c0fe04aa",
   "metadata": {},
   "outputs": [
    {
     "data": {
      "text/plain": [
       "2935.9375"
      ]
     },
     "execution_count": 6,
     "metadata": {},
     "output_type": "execute_result"
    }
   ],
   "source": [
    "m= sum(list_1)/len(list_1) # we find mean(average) without numpy array funtion\n",
    "m"
   ]
  },
  {
   "cell_type": "code",
   "execution_count": 7,
   "id": "f8edbd93-23c0-4924-9a90-464de0ee36d7",
   "metadata": {},
   "outputs": [],
   "source": [
    "step_count = np.array(list_1) # here we convert list into array"
   ]
  },
  {
   "cell_type": "code",
   "execution_count": 8,
   "id": "7d262898-18c9-471f-b652-ed3b2904d6cb",
   "metadata": {},
   "outputs": [
    {
     "name": "stdout",
     "output_type": "stream",
     "text": [
      "average step count across the dataset is:- 2935.9375\n"
     ]
    }
   ],
   "source": [
    "avg = np.mean(step_count)\n",
    "print(f\"average step count across the dataset is:- {avg}\")"
   ]
  },
  {
   "cell_type": "markdown",
   "id": "07d5cf6b-ff22-4d5c-89c1-62f01658cd8b",
   "metadata": {},
   "source": [
    " # 3. On which date did the person burn the most calories, and what was their mood on that day?"
   ]
  },
  {
   "cell_type": "code",
   "execution_count": 9,
   "id": "5e124ec1-5da6-4f81-b6d7-b13f42de5cfc",
   "metadata": {},
   "outputs": [
    {
     "data": {
      "text/plain": [
       "array([181, 197,   0, 174, 223, 149, 140,  38,   1,  40, 101, 152, 150,\n",
       "       113,  49,  86,   6,  99, 143, 125, 129,   6,   9,  10,  72, 150,\n",
       "       141, 156,  57,  72,  17, 181, 197, 131, 154, 137, 193,  19, 101,\n",
       "       139, 164, 137,  22,  17,   9, 145, 192, 146, 234, 167,  16,  17,\n",
       "        32,  35, 220, 116,  23,  44, 131,  86, 194,  60, 121,  76,  93,\n",
       "        53,  25, 227, 125, 243,  14,  39,  55, 158,   7, 213, 116, 129,\n",
       "        21,  28,  16, 180, 138, 176,  99,   5,   1,  10,  47,  84,  23,\n",
       "         4,   0,   0,   0,   0])"
      ]
     },
     "execution_count": 9,
     "metadata": {},
     "output_type": "execute_result"
    }
   ],
   "source": [
    "calories_burned=np.array(list_3)\n",
    "calories_burned"
   ]
  },
  {
   "cell_type": "code",
   "execution_count": 10,
   "id": "3d3d24e0-a4fd-4daa-af49-de6a22798fb9",
   "metadata": {},
   "outputs": [
    {
     "name": "stdout",
     "output_type": "stream",
     "text": [
      "Most calories burned on 14-12-2017 with mood : Happy\n"
     ]
    }
   ],
   "source": [
    "max_calories = np.max(calories_burned) # we find maximum calories_burned\n",
    "max_calories_index = np.argmax(calories_burned) # we find index of maximum calories_burned\n",
    "date =list[max_calories_index]\n",
    "mood =list_2[max_calories_index]\n",
    "print(f\"Most calories burned on {date} with mood : {mood}\")\n"
   ]
  },
  {
   "cell_type": "markdown",
   "id": "b062a375-42cc-46eb-aefd-9269607ce3c8",
   "metadata": {},
   "source": [
    "# 4. How many days does the dataset show the person being \"Active\" vs. \"Inactive\"?"
   ]
  },
  {
   "cell_type": "code",
   "execution_count": 11,
   "id": "e0d6fbfc-d281-40b7-8b94-d83835ecf7df",
   "metadata": {},
   "outputs": [],
   "source": [
    "active_count =list_5.count('Active')\n",
    "inactive_count =list_5.count('Inactive')"
   ]
  },
  {
   "cell_type": "code",
   "execution_count": 12,
   "id": "47da03ca-b281-48d7-9276-8dee37b6e8c4",
   "metadata": {},
   "outputs": [
    {
     "name": "stdout",
     "output_type": "stream",
     "text": [
      "person being Active 42 days\n"
     ]
    }
   ],
   "source": [
    "print(f\"person being Active {active_count} days\")"
   ]
  },
  {
   "cell_type": "code",
   "execution_count": 13,
   "id": "3f7f6e09-f3cd-460f-b2a7-19174fe78f5d",
   "metadata": {},
   "outputs": [
    {
     "name": "stdout",
     "output_type": "stream",
     "text": [
      "person being Inactive 54 days\n"
     ]
    }
   ],
   "source": [
    "print(f\"person being Inactive {inactive_count} days\")"
   ]
  },
  {
   "cell_type": "markdown",
   "id": "0714fee5-ec45-45f6-8676-ddc9167afcab",
   "metadata": {},
   "source": [
    "# 5. Which mood is associated with the highest average calories burned?"
   ]
  },
  {
   "cell_type": "code",
   "execution_count": 14,
   "id": "47a29a2c-becd-48ae-a8c5-07e5c646dcda",
   "metadata": {},
   "outputs": [
    {
     "data": {
      "text/plain": [
       "array(['Neutral', 'Sad', 'Sad', 'Sad', 'Neutral', 'Sad', 'Sad', 'Sad',\n",
       "       'Sad', 'Sad', 'Sad', 'Sad', 'Happy', 'Sad', 'Sad', 'Sad', 'Sad',\n",
       "       'Neutral', 'Neutral', 'Neutral', 'Neutral', 'Neutral', 'Neutral',\n",
       "       'Happy', 'Neutral', 'Happy', 'Happy', 'Happy', 'Happy', 'Happy',\n",
       "       'Happy', 'Happy', 'Neutral', 'Happy', 'Happy', 'Happy', 'Happy',\n",
       "       'Happy', 'Happy', 'Happy', 'Happy', 'Happy', 'Happy', 'Neutral',\n",
       "       'Happy', 'Happy', 'Happy', 'Happy', 'Happy', 'Happy', 'Happy',\n",
       "       'Happy', 'Happy', 'Neutral', 'Sad', 'Happy', 'Happy', 'Happy',\n",
       "       'Happy', 'Happy', 'Happy', 'Happy', 'Sad', 'Neutral', 'Neutral',\n",
       "       'Sad', 'Sad', 'Neutral', 'Neutral', 'Happy', 'Neutral', 'Neutral',\n",
       "       'Sad', 'Neutral', 'Sad', 'Neutral', 'Neutral', 'Sad', 'Sad', 'Sad',\n",
       "       'Sad', 'Happy', 'Neutral', 'Happy', 'Neutral', 'Sad', 'Sad', 'Sad',\n",
       "       'Neutral', 'Neutral', 'Sad', 'Sad', 'Happy', 'Neutral', 'Neutral',\n",
       "       'Happy'], dtype='<U7')"
      ]
     },
     "execution_count": 14,
     "metadata": {},
     "output_type": "execute_result"
    }
   ],
   "source": [
    "mood = np.array(list_2)\n",
    "mood\n"
   ]
  },
  {
   "cell_type": "code",
   "execution_count": 15,
   "id": "ec9e7171-2725-4ba3-9bba-2634bbe4efe0",
   "metadata": {},
   "outputs": [
    {
     "data": {
      "text/plain": [
       "array([181, 197,   0, 174, 223, 149, 140,  38,   1,  40, 101, 152, 150,\n",
       "       113,  49,  86,   6,  99, 143, 125, 129,   6,   9,  10,  72, 150,\n",
       "       141, 156,  57,  72,  17, 181, 197, 131, 154, 137, 193,  19, 101,\n",
       "       139, 164, 137,  22,  17,   9, 145, 192, 146, 234, 167,  16,  17,\n",
       "        32,  35, 220, 116,  23,  44, 131,  86, 194,  60, 121,  76,  93,\n",
       "        53,  25, 227, 125, 243,  14,  39,  55, 158,   7, 213, 116, 129,\n",
       "        21,  28,  16, 180, 138, 176,  99,   5,   1,  10,  47,  84,  23,\n",
       "         4,   0,   0,   0,   0])"
      ]
     },
     "execution_count": 15,
     "metadata": {},
     "output_type": "execute_result"
    }
   ],
   "source": [
    "calories_burned"
   ]
  },
  {
   "cell_type": "code",
   "execution_count": 26,
   "id": "7862223c-bce4-49f8-999d-37b28294b503",
   "metadata": {},
   "outputs": [
    {
     "name": "stdout",
     "output_type": "stream",
     "text": [
      "Mood:  ['Neutral' 'Sad' 'Sad' 'Sad' 'Neutral' 'Sad' 'Sad' 'Sad' 'Sad' 'Sad' 'Sad'\n",
      " 'Sad' 'Happy' 'Sad' 'Sad' 'Sad' 'Sad' 'Neutral' 'Neutral' 'Neutral'\n",
      " 'Neutral' 'Neutral' 'Neutral' 'Happy' 'Neutral' 'Happy' 'Happy' 'Happy'\n",
      " 'Happy' 'Happy' 'Happy' 'Happy' 'Neutral' 'Happy' 'Happy' 'Happy' 'Happy'\n",
      " 'Happy' 'Happy' 'Happy' 'Happy' 'Happy' 'Happy' 'Neutral' 'Happy' 'Happy'\n",
      " 'Happy' 'Happy' 'Happy' 'Happy' 'Happy' 'Happy' 'Happy' 'Neutral' 'Sad'\n",
      " 'Happy' 'Happy' 'Happy' 'Happy' 'Happy' 'Happy' 'Happy' 'Sad' 'Neutral'\n",
      " 'Neutral' 'Sad' 'Sad' 'Neutral' 'Neutral' 'Happy' 'Neutral' 'Neutral'\n",
      " 'Sad' 'Neutral' 'Sad' 'Neutral' 'Neutral' 'Sad' 'Sad' 'Sad' 'Sad' 'Happy'\n",
      " 'Neutral' 'Happy' 'Neutral' 'Sad' 'Sad' 'Sad' 'Neutral' 'Neutral' 'Sad'\n",
      " 'Sad' 'Happy' 'Neutral' 'Neutral' 'Happy']\n",
      "calories_burned : [181 197 0 174 223 149 140 38 1 40 101 152 150 113 49 86 6 99 143 125 129\n",
      " 6 9 10 72 150 141 156 57 72 17 181 197 131 154 137 193 19 101 139 164 137\n",
      " 22 17 9 145 192 146 234 167 16 17 32 35 220 116 23 44 131 86 194 60 121\n",
      " 76 93 53 25 227 125 243 14 39 55 158 7 213 116 129 21 28 16 180 138 176\n",
      " 99 5 1 10 47 84 23 4 0 0 0 0]\n"
     ]
    }
   ],
   "source": [
    "matrix = np.array([mood , calories_burned] , dtype='object')\n",
    "\n",
    "print(\"Mood: \", matrix[0])\n",
    "print(\"calories_burned :\",(matrix[1]))"
   ]
  },
  {
   "cell_type": "code",
   "execution_count": 17,
   "id": "137b2b0a-c28a-4d66-baf2-c24404cb828e",
   "metadata": {},
   "outputs": [
    {
     "name": "stdout",
     "output_type": "stream",
     "text": [
      "Happy mood is associated with the calories burned 108.55\n",
      "\n",
      "sad mood is associated with the calories burned 67.72413793103448\n",
      "\n",
      "Neutral mood is associated with the calories burned 98.70370370370371\n"
     ]
    }
   ],
   "source": [
    "Mean_0 = np.mean(calories_burned[mood=='Happy'])\n",
    "print(f\"Happy mood is associated with the calories burned {Mean_0}\")\n",
    "print()\n",
    "Mean_1=np.mean(calories_burned[mood=='Sad'])\n",
    "print(f\"sad mood is associated with the calories burned {Mean_1}\")\n",
    "print()\n",
    "Mean_2=np.mean(calories_burned[mood=='Neutral'])\n",
    "print(f\"Neutral mood is associated with the calories burned {Mean_2}\")"
   ]
  },
  {
   "cell_type": "code",
   "execution_count": 18,
   "id": "e857a76f-f50f-490b-babf-11bfba8b154e",
   "metadata": {},
   "outputs": [
    {
     "data": {
      "text/plain": [
       "array([108,  67,  98])"
      ]
     },
     "execution_count": 18,
     "metadata": {},
     "output_type": "execute_result"
    }
   ],
   "source": [
    "matrix_0=np.array([Mean_0 , Mean_1 ,Mean_2],dtype='int')\n",
    "matrix_0"
   ]
  },
  {
   "cell_type": "code",
   "execution_count": 29,
   "id": "6d36c4db-9536-4d4d-9ed1-76c01af264e5",
   "metadata": {},
   "outputs": [
    {
     "data": {
      "text/plain": [
       "array([ 67,  98, 108])"
      ]
     },
     "execution_count": 29,
     "metadata": {},
     "output_type": "execute_result"
    }
   ],
   "source": [
    "result= np.sort(matrix_0)\n",
    "result"
   ]
  },
  {
   "cell_type": "code",
   "execution_count": 30,
   "id": "27731d3c-c60d-4db8-b323-6d62d2fd08b8",
   "metadata": {},
   "outputs": [
    {
     "name": "stdout",
     "output_type": "stream",
     "text": [
      "Happy mood is associated with the highest average calories burned 108.55\n"
     ]
    }
   ],
   "source": [
    "print(f\"Happy mood is associated with the highest average calories burned {Mean_0}\")"
   ]
  },
  {
   "cell_type": "code",
   "execution_count": null,
   "id": "212fe356-1e67-4e08-b8b3-0c1bdd5a61e7",
   "metadata": {},
   "outputs": [],
   "source": []
  }
 ],
 "metadata": {
  "kernelspec": {
   "display_name": "Python 3 (ipykernel)",
   "language": "python",
   "name": "python3"
  },
  "language_info": {
   "codemirror_mode": {
    "name": "ipython",
    "version": 3
   },
   "file_extension": ".py",
   "mimetype": "text/x-python",
   "name": "python",
   "nbconvert_exporter": "python",
   "pygments_lexer": "ipython3",
   "version": "3.11.5"
  }
 },
 "nbformat": 4,
 "nbformat_minor": 5
}
